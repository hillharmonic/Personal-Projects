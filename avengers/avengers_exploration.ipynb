{
 "cells": [
  {
   "cell_type": "markdown",
   "metadata": {},
   "source": [
    "# Avengers Database Exploration\n",
    "***\n",
    "### Description\n",
    "\n",
    "As an employee of The Walt Disney Company with a great interest in the Avengers franchise, I was excited to find a database providing extensive data on the avengers provided by [FiveThirtyEight](https://raw.githubusercontent.com/fivethirtyeight/data/master/avengers/avengers.csv). The goal of this project will be to practice fundamental Exploratory Data Analysis, try to derive some conclusions based on visualizations, and see if it's possible to create a machine learning model based on dataset attributes. \n",
    "\n",
    "As a note, I kept this file local to minimize the requests I was sending to site. Given that this is a personal project, I don't intend to update this frequently.\n",
    "***"
   ]
  },
  {
   "cell_type": "markdown",
   "metadata": {},
   "source": [
    "### Loading Necessary Libraries"
   ]
  },
  {
   "cell_type": "code",
   "execution_count": 97,
   "metadata": {},
   "outputs": [],
   "source": [
    "import pandas as pd\n",
    "import numpy as np\n",
    "import matplotlib.pyplot as plt\n",
    "import seaborn as sns"
   ]
  },
  {
   "cell_type": "markdown",
   "metadata": {},
   "source": [
    "### Exploring the Data"
   ]
  },
  {
   "cell_type": "code",
   "execution_count": 98,
   "metadata": {
    "scrolled": true
   },
   "outputs": [
    {
     "data": {
      "text/html": [
       "<div>\n",
       "<style scoped>\n",
       "    .dataframe tbody tr th:only-of-type {\n",
       "        vertical-align: middle;\n",
       "    }\n",
       "\n",
       "    .dataframe tbody tr th {\n",
       "        vertical-align: top;\n",
       "    }\n",
       "\n",
       "    .dataframe thead th {\n",
       "        text-align: right;\n",
       "    }\n",
       "</style>\n",
       "<table border=\"1\" class=\"dataframe\">\n",
       "  <thead>\n",
       "    <tr style=\"text-align: right;\">\n",
       "      <th></th>\n",
       "      <th>URL</th>\n",
       "      <th>Name/Alias</th>\n",
       "      <th>Appearances</th>\n",
       "      <th>Current?</th>\n",
       "      <th>Gender</th>\n",
       "      <th>Probationary Introl</th>\n",
       "      <th>Full/Reserve Avengers Intro</th>\n",
       "      <th>Year</th>\n",
       "      <th>Years since joining</th>\n",
       "      <th>Honorary</th>\n",
       "      <th>...</th>\n",
       "      <th>Return1</th>\n",
       "      <th>Death2</th>\n",
       "      <th>Return2</th>\n",
       "      <th>Death3</th>\n",
       "      <th>Return3</th>\n",
       "      <th>Death4</th>\n",
       "      <th>Return4</th>\n",
       "      <th>Death5</th>\n",
       "      <th>Return5</th>\n",
       "      <th>Notes</th>\n",
       "    </tr>\n",
       "  </thead>\n",
       "  <tbody>\n",
       "    <tr>\n",
       "      <th>0</th>\n",
       "      <td>http://marvel.wikia.com/Henry_Pym_(Earth-616)</td>\n",
       "      <td>Henry Jonathan \"Hank\" Pym</td>\n",
       "      <td>1269</td>\n",
       "      <td>YES</td>\n",
       "      <td>MALE</td>\n",
       "      <td>NaN</td>\n",
       "      <td>Sep-63</td>\n",
       "      <td>1963</td>\n",
       "      <td>52</td>\n",
       "      <td>Full</td>\n",
       "      <td>...</td>\n",
       "      <td>NO</td>\n",
       "      <td>NaN</td>\n",
       "      <td>NaN</td>\n",
       "      <td>NaN</td>\n",
       "      <td>NaN</td>\n",
       "      <td>NaN</td>\n",
       "      <td>NaN</td>\n",
       "      <td>NaN</td>\n",
       "      <td>NaN</td>\n",
       "      <td>Merged with Ultron in Rage of Ultron Vol. 1. A...</td>\n",
       "    </tr>\n",
       "    <tr>\n",
       "      <th>1</th>\n",
       "      <td>http://marvel.wikia.com/Janet_van_Dyne_(Earth-...</td>\n",
       "      <td>Janet van Dyne</td>\n",
       "      <td>1165</td>\n",
       "      <td>YES</td>\n",
       "      <td>FEMALE</td>\n",
       "      <td>NaN</td>\n",
       "      <td>Sep-63</td>\n",
       "      <td>1963</td>\n",
       "      <td>52</td>\n",
       "      <td>Full</td>\n",
       "      <td>...</td>\n",
       "      <td>YES</td>\n",
       "      <td>NaN</td>\n",
       "      <td>NaN</td>\n",
       "      <td>NaN</td>\n",
       "      <td>NaN</td>\n",
       "      <td>NaN</td>\n",
       "      <td>NaN</td>\n",
       "      <td>NaN</td>\n",
       "      <td>NaN</td>\n",
       "      <td>Dies in Secret Invasion V1:I8. Actually was se...</td>\n",
       "    </tr>\n",
       "    <tr>\n",
       "      <th>2</th>\n",
       "      <td>http://marvel.wikia.com/Anthony_Stark_(Earth-616)</td>\n",
       "      <td>Anthony Edward \"Tony\" Stark</td>\n",
       "      <td>3068</td>\n",
       "      <td>YES</td>\n",
       "      <td>MALE</td>\n",
       "      <td>NaN</td>\n",
       "      <td>Sep-63</td>\n",
       "      <td>1963</td>\n",
       "      <td>52</td>\n",
       "      <td>Full</td>\n",
       "      <td>...</td>\n",
       "      <td>YES</td>\n",
       "      <td>NaN</td>\n",
       "      <td>NaN</td>\n",
       "      <td>NaN</td>\n",
       "      <td>NaN</td>\n",
       "      <td>NaN</td>\n",
       "      <td>NaN</td>\n",
       "      <td>NaN</td>\n",
       "      <td>NaN</td>\n",
       "      <td>Death: \"Later while under the influence of Imm...</td>\n",
       "    </tr>\n",
       "    <tr>\n",
       "      <th>3</th>\n",
       "      <td>http://marvel.wikia.com/Robert_Bruce_Banner_(E...</td>\n",
       "      <td>Robert Bruce Banner</td>\n",
       "      <td>2089</td>\n",
       "      <td>YES</td>\n",
       "      <td>MALE</td>\n",
       "      <td>NaN</td>\n",
       "      <td>Sep-63</td>\n",
       "      <td>1963</td>\n",
       "      <td>52</td>\n",
       "      <td>Full</td>\n",
       "      <td>...</td>\n",
       "      <td>YES</td>\n",
       "      <td>NaN</td>\n",
       "      <td>NaN</td>\n",
       "      <td>NaN</td>\n",
       "      <td>NaN</td>\n",
       "      <td>NaN</td>\n",
       "      <td>NaN</td>\n",
       "      <td>NaN</td>\n",
       "      <td>NaN</td>\n",
       "      <td>Dies in Ghosts of the Future arc. However \"he ...</td>\n",
       "    </tr>\n",
       "    <tr>\n",
       "      <th>4</th>\n",
       "      <td>http://marvel.wikia.com/Thor_Odinson_(Earth-616)</td>\n",
       "      <td>Thor Odinson</td>\n",
       "      <td>2402</td>\n",
       "      <td>YES</td>\n",
       "      <td>MALE</td>\n",
       "      <td>NaN</td>\n",
       "      <td>Sep-63</td>\n",
       "      <td>1963</td>\n",
       "      <td>52</td>\n",
       "      <td>Full</td>\n",
       "      <td>...</td>\n",
       "      <td>YES</td>\n",
       "      <td>YES</td>\n",
       "      <td>NO</td>\n",
       "      <td>NaN</td>\n",
       "      <td>NaN</td>\n",
       "      <td>NaN</td>\n",
       "      <td>NaN</td>\n",
       "      <td>NaN</td>\n",
       "      <td>NaN</td>\n",
       "      <td>Dies in Fear Itself brought back because that'...</td>\n",
       "    </tr>\n",
       "  </tbody>\n",
       "</table>\n",
       "<p>5 rows × 21 columns</p>\n",
       "</div>"
      ],
      "text/plain": [
       "                                                 URL  \\\n",
       "0      http://marvel.wikia.com/Henry_Pym_(Earth-616)   \n",
       "1  http://marvel.wikia.com/Janet_van_Dyne_(Earth-...   \n",
       "2  http://marvel.wikia.com/Anthony_Stark_(Earth-616)   \n",
       "3  http://marvel.wikia.com/Robert_Bruce_Banner_(E...   \n",
       "4   http://marvel.wikia.com/Thor_Odinson_(Earth-616)   \n",
       "\n",
       "                    Name/Alias  Appearances Current?  Gender  \\\n",
       "0    Henry Jonathan \"Hank\" Pym         1269      YES    MALE   \n",
       "1               Janet van Dyne         1165      YES  FEMALE   \n",
       "2  Anthony Edward \"Tony\" Stark         3068      YES    MALE   \n",
       "3          Robert Bruce Banner         2089      YES    MALE   \n",
       "4                 Thor Odinson         2402      YES    MALE   \n",
       "\n",
       "  Probationary Introl Full/Reserve Avengers Intro  Year  Years since joining  \\\n",
       "0                 NaN                      Sep-63  1963                   52   \n",
       "1                 NaN                      Sep-63  1963                   52   \n",
       "2                 NaN                      Sep-63  1963                   52   \n",
       "3                 NaN                      Sep-63  1963                   52   \n",
       "4                 NaN                      Sep-63  1963                   52   \n",
       "\n",
       "  Honorary  ... Return1 Death2 Return2 Death3 Return3 Death4 Return4 Death5  \\\n",
       "0     Full  ...      NO    NaN     NaN    NaN     NaN    NaN     NaN    NaN   \n",
       "1     Full  ...     YES    NaN     NaN    NaN     NaN    NaN     NaN    NaN   \n",
       "2     Full  ...     YES    NaN     NaN    NaN     NaN    NaN     NaN    NaN   \n",
       "3     Full  ...     YES    NaN     NaN    NaN     NaN    NaN     NaN    NaN   \n",
       "4     Full  ...     YES    YES      NO    NaN     NaN    NaN     NaN    NaN   \n",
       "\n",
       "  Return5                                              Notes  \n",
       "0     NaN  Merged with Ultron in Rage of Ultron Vol. 1. A...  \n",
       "1     NaN  Dies in Secret Invasion V1:I8. Actually was se...  \n",
       "2     NaN  Death: \"Later while under the influence of Imm...  \n",
       "3     NaN  Dies in Ghosts of the Future arc. However \"he ...  \n",
       "4     NaN  Dies in Fear Itself brought back because that'...  \n",
       "\n",
       "[5 rows x 21 columns]"
      ]
     },
     "execution_count": 98,
     "metadata": {},
     "output_type": "execute_result"
    }
   ],
   "source": [
    "df = pd.read_csv('avengers.csv')\n",
    "df.head()"
   ]
  },
  {
   "cell_type": "code",
   "execution_count": 99,
   "metadata": {},
   "outputs": [
    {
     "name": "stdout",
     "output_type": "stream",
     "text": [
      "<class 'pandas.core.frame.DataFrame'>\n",
      "RangeIndex: 173 entries, 0 to 172\n",
      "Data columns (total 21 columns):\n",
      " #   Column                       Non-Null Count  Dtype \n",
      "---  ------                       --------------  ----- \n",
      " 0   URL                          173 non-null    object\n",
      " 1   Name/Alias                   163 non-null    object\n",
      " 2   Appearances                  173 non-null    int64 \n",
      " 3   Current?                     173 non-null    object\n",
      " 4   Gender                       173 non-null    object\n",
      " 5   Probationary Introl          15 non-null     object\n",
      " 6   Full/Reserve Avengers Intro  159 non-null    object\n",
      " 7   Year                         173 non-null    int64 \n",
      " 8   Years since joining          173 non-null    int64 \n",
      " 9   Honorary                     173 non-null    object\n",
      " 10  Death1                       173 non-null    object\n",
      " 11  Return1                      69 non-null     object\n",
      " 12  Death2                       17 non-null     object\n",
      " 13  Return2                      16 non-null     object\n",
      " 14  Death3                       2 non-null      object\n",
      " 15  Return3                      2 non-null      object\n",
      " 16  Death4                       1 non-null      object\n",
      " 17  Return4                      1 non-null      object\n",
      " 18  Death5                       1 non-null      object\n",
      " 19  Return5                      1 non-null      object\n",
      " 20  Notes                        75 non-null     object\n",
      "dtypes: int64(3), object(18)\n",
      "memory usage: 28.5+ KB\n"
     ]
    },
    {
     "data": {
      "text/plain": [
       "NO     104\n",
       "YES     69\n",
       "Name: Death1, dtype: int64"
      ]
     },
     "execution_count": 99,
     "metadata": {},
     "output_type": "execute_result"
    }
   ],
   "source": [
    "df.info()\n",
    "df['Death1'].value_counts()"
   ]
  },
  {
   "cell_type": "markdown",
   "metadata": {},
   "source": [
    "#### Observations\n",
    "Right off the bat, we notice a couple of things about each column...\n",
    "- `URL`: Not necessary. **We can omit this from the sorted df**\n",
    "- `Name`: Categorical variable. Will be psuedo-index\n",
    "- `Appearances`: Quantitative variable. Likely useful in a regression model.\n",
    "- `Current?`: Categorical Variable. Describes if they are current. **Should change this to boolean.**\n",
    "- `Gender`: Categorical Variable. **Should dummy this variable for modelling.**\n",
    "- `Probationary Introl`: Categorical date variable. Date they appeared in comics as a probationary member. **Fix this name**\n",
    "- `Full/Reserve Avengers Intro`: Categorical date variable. Date they appeared in comics as a full member.\n",
    "- `Year`: Quantitative variable. year the avenger was introduced.\n",
    "- `Years since joining`: Quantitative variable. 2015 - year they were introduced. **Will need to apply a lambda function to add 6 years.**\n",
    "- `Honorary`: Categorical variable. Describing status of the avenger. **Will need to change to \"status\"**\n",
    "- `Death(1-5)`: Categorical variable. \"Yes\" if avenger dies. **Should combine to a # of deaths column.**\n",
    "- `Return(1-5)`: Categorical variable. \"Yes\" if avenger comes back from dead. **Should combine to a # returns column.**\n",
    "- `Notes`: Categorical variable. **We can omit this from the sorted df.**"
   ]
  },
  {
   "cell_type": "markdown",
   "metadata": {},
   "source": [
    "### Cleaning"
   ]
  },
  {
   "cell_type": "code",
   "execution_count": 100,
   "metadata": {},
   "outputs": [],
   "source": [
    "# Current?\n",
    "df['Current?'] = df['Current?'].apply(lambda x: True if str(x) == \"YES\" else False)"
   ]
  },
  {
   "cell_type": "code",
   "execution_count": 101,
   "metadata": {},
   "outputs": [],
   "source": [
    "# Gender\n",
    "gender = pd.get_dummies(data=df['Gender'])\n",
    "df = pd.concat([df, gender], axis=1)"
   ]
  },
  {
   "cell_type": "code",
   "execution_count": 102,
   "metadata": {},
   "outputs": [],
   "source": [
    "# Years since joining\n",
    "\"\"\"This reflects the current year\"\"\"\n",
    "df['Years since joining'] = df['Years since joining'] + 6"
   ]
  },
  {
   "cell_type": "code",
   "execution_count": 103,
   "metadata": {},
   "outputs": [],
   "source": [
    "# Honorary (Status)\n",
    "df.rename(columns = {'Honorary': 'Status'}, inplace = True)\n",
    "status = pd.get_dummies(df['Status'])\n",
    "df = pd.concat([df, status], axis=1)"
   ]
  },
  {
   "cell_type": "code",
   "execution_count": 104,
   "metadata": {},
   "outputs": [],
   "source": [
    "# Deaths and Returns\n",
    "for i in range(1,6):\n",
    "    death_col = 'Death' + str(i)\n",
    "    return_col = 'Return' + str (i)\n",
    "    df[death_col] = df[death_col].apply(lambda x: 1 if str(x) == 'YES' else 0)\n",
    "    df[return_col] = df[return_col].apply(lambda x: 1 if str(x) == 'YES' else 0)\n",
    "\n",
    "df['total_deaths'] = df['Death1'] + df['Death2'] + df['Death3'] + df['Death4'] + df['Death5']\n",
    "df['total_returns'] = df['Return1'] + df['Return2'] + df['Return3'] + df['Return4'] + df['Return5']"
   ]
  },
  {
   "cell_type": "code",
   "execution_count": 105,
   "metadata": {},
   "outputs": [],
   "source": [
    "# NEW COLUMN -> Alive\n",
    "df['Alive'] = (df['total_deaths'] <= df['total_returns'])"
   ]
  },
  {
   "cell_type": "code",
   "execution_count": 106,
   "metadata": {},
   "outputs": [],
   "source": [
    "# Renaming\n",
    "df.rename(columns = {'Current?':'Current',\n",
    "                     'Probationary Introl': 'Probationary_Intro',\n",
    "                     'Years since joining': 'Years_since_joining',\n",
    "                     'Full/Reserve Avengers Intro':'Full_Avengers_Intro'},\n",
    "          inplace=True)"
   ]
  },
  {
   "cell_type": "code",
   "execution_count": 107,
   "metadata": {},
   "outputs": [],
   "source": [
    "# Dropping URL and Notes\n",
    "df.drop(columns = ['URL','Notes',\n",
    "                   'Death1','Death2', 'Death3', 'Death4', 'Death5',\n",
    "                   'Return1', 'Return2', 'Return3', 'Return4', 'Return5'], \n",
    "        inplace=True)"
   ]
  },
  {
   "cell_type": "code",
   "execution_count": 117,
   "metadata": {
    "scrolled": true
   },
   "outputs": [
    {
     "data": {
      "text/html": [
       "<div>\n",
       "<style scoped>\n",
       "    .dataframe tbody tr th:only-of-type {\n",
       "        vertical-align: middle;\n",
       "    }\n",
       "\n",
       "    .dataframe tbody tr th {\n",
       "        vertical-align: top;\n",
       "    }\n",
       "\n",
       "    .dataframe thead th {\n",
       "        text-align: right;\n",
       "    }\n",
       "</style>\n",
       "<table border=\"1\" class=\"dataframe\">\n",
       "  <thead>\n",
       "    <tr style=\"text-align: right;\">\n",
       "      <th></th>\n",
       "      <th>Name/Alias</th>\n",
       "      <th>Appearances</th>\n",
       "      <th>Current</th>\n",
       "      <th>Gender</th>\n",
       "      <th>Probationary_Intro</th>\n",
       "      <th>Full_Avengers_Intro</th>\n",
       "      <th>Year</th>\n",
       "      <th>Years_since_joining</th>\n",
       "      <th>Status</th>\n",
       "      <th>FEMALE</th>\n",
       "      <th>MALE</th>\n",
       "      <th>Academy</th>\n",
       "      <th>Full</th>\n",
       "      <th>Honorary</th>\n",
       "      <th>Probationary</th>\n",
       "      <th>total_deaths</th>\n",
       "      <th>total_returns</th>\n",
       "      <th>Alive</th>\n",
       "    </tr>\n",
       "  </thead>\n",
       "  <tbody>\n",
       "    <tr>\n",
       "      <th>0</th>\n",
       "      <td>Henry Jonathan \"Hank\" Pym</td>\n",
       "      <td>1269</td>\n",
       "      <td>True</td>\n",
       "      <td>MALE</td>\n",
       "      <td>NaN</td>\n",
       "      <td>Sep-63</td>\n",
       "      <td>1963</td>\n",
       "      <td>58</td>\n",
       "      <td>Full</td>\n",
       "      <td>0</td>\n",
       "      <td>1</td>\n",
       "      <td>0</td>\n",
       "      <td>1</td>\n",
       "      <td>0</td>\n",
       "      <td>0</td>\n",
       "      <td>1</td>\n",
       "      <td>0</td>\n",
       "      <td>False</td>\n",
       "    </tr>\n",
       "    <tr>\n",
       "      <th>1</th>\n",
       "      <td>Janet van Dyne</td>\n",
       "      <td>1165</td>\n",
       "      <td>True</td>\n",
       "      <td>FEMALE</td>\n",
       "      <td>NaN</td>\n",
       "      <td>Sep-63</td>\n",
       "      <td>1963</td>\n",
       "      <td>58</td>\n",
       "      <td>Full</td>\n",
       "      <td>1</td>\n",
       "      <td>0</td>\n",
       "      <td>0</td>\n",
       "      <td>1</td>\n",
       "      <td>0</td>\n",
       "      <td>0</td>\n",
       "      <td>1</td>\n",
       "      <td>1</td>\n",
       "      <td>True</td>\n",
       "    </tr>\n",
       "    <tr>\n",
       "      <th>2</th>\n",
       "      <td>Anthony Edward \"Tony\" Stark</td>\n",
       "      <td>3068</td>\n",
       "      <td>True</td>\n",
       "      <td>MALE</td>\n",
       "      <td>NaN</td>\n",
       "      <td>Sep-63</td>\n",
       "      <td>1963</td>\n",
       "      <td>58</td>\n",
       "      <td>Full</td>\n",
       "      <td>0</td>\n",
       "      <td>1</td>\n",
       "      <td>0</td>\n",
       "      <td>1</td>\n",
       "      <td>0</td>\n",
       "      <td>0</td>\n",
       "      <td>1</td>\n",
       "      <td>1</td>\n",
       "      <td>True</td>\n",
       "    </tr>\n",
       "    <tr>\n",
       "      <th>3</th>\n",
       "      <td>Robert Bruce Banner</td>\n",
       "      <td>2089</td>\n",
       "      <td>True</td>\n",
       "      <td>MALE</td>\n",
       "      <td>NaN</td>\n",
       "      <td>Sep-63</td>\n",
       "      <td>1963</td>\n",
       "      <td>58</td>\n",
       "      <td>Full</td>\n",
       "      <td>0</td>\n",
       "      <td>1</td>\n",
       "      <td>0</td>\n",
       "      <td>1</td>\n",
       "      <td>0</td>\n",
       "      <td>0</td>\n",
       "      <td>1</td>\n",
       "      <td>1</td>\n",
       "      <td>True</td>\n",
       "    </tr>\n",
       "    <tr>\n",
       "      <th>4</th>\n",
       "      <td>Thor Odinson</td>\n",
       "      <td>2402</td>\n",
       "      <td>True</td>\n",
       "      <td>MALE</td>\n",
       "      <td>NaN</td>\n",
       "      <td>Sep-63</td>\n",
       "      <td>1963</td>\n",
       "      <td>58</td>\n",
       "      <td>Full</td>\n",
       "      <td>0</td>\n",
       "      <td>1</td>\n",
       "      <td>0</td>\n",
       "      <td>1</td>\n",
       "      <td>0</td>\n",
       "      <td>0</td>\n",
       "      <td>2</td>\n",
       "      <td>1</td>\n",
       "      <td>False</td>\n",
       "    </tr>\n",
       "  </tbody>\n",
       "</table>\n",
       "</div>"
      ],
      "text/plain": [
       "                    Name/Alias  Appearances  Current  Gender  \\\n",
       "0    Henry Jonathan \"Hank\" Pym         1269     True    MALE   \n",
       "1               Janet van Dyne         1165     True  FEMALE   \n",
       "2  Anthony Edward \"Tony\" Stark         3068     True    MALE   \n",
       "3          Robert Bruce Banner         2089     True    MALE   \n",
       "4                 Thor Odinson         2402     True    MALE   \n",
       "\n",
       "  Probationary_Intro Full_Avengers_Intro  Year  Years_since_joining Status  \\\n",
       "0                NaN              Sep-63  1963                   58   Full   \n",
       "1                NaN              Sep-63  1963                   58   Full   \n",
       "2                NaN              Sep-63  1963                   58   Full   \n",
       "3                NaN              Sep-63  1963                   58   Full   \n",
       "4                NaN              Sep-63  1963                   58   Full   \n",
       "\n",
       "   FEMALE  MALE  Academy  Full  Honorary  Probationary  total_deaths  \\\n",
       "0       0     1        0     1         0             0             1   \n",
       "1       1     0        0     1         0             0             1   \n",
       "2       0     1        0     1         0             0             1   \n",
       "3       0     1        0     1         0             0             1   \n",
       "4       0     1        0     1         0             0             2   \n",
       "\n",
       "   total_returns  Alive  \n",
       "0              0  False  \n",
       "1              1   True  \n",
       "2              1   True  \n",
       "3              1   True  \n",
       "4              1  False  "
      ]
     },
     "execution_count": 117,
     "metadata": {},
     "output_type": "execute_result"
    }
   ],
   "source": [
    "df.head()"
   ]
  },
  {
   "cell_type": "code",
   "execution_count": 116,
   "metadata": {},
   "outputs": [
    {
     "name": "stdout",
     "output_type": "stream",
     "text": [
      "<class 'pandas.core.frame.DataFrame'>\n",
      "RangeIndex: 173 entries, 0 to 172\n",
      "Data columns (total 18 columns):\n",
      " #   Column               Non-Null Count  Dtype \n",
      "---  ------               --------------  ----- \n",
      " 0   Name/Alias           163 non-null    object\n",
      " 1   Appearances          173 non-null    int64 \n",
      " 2   Current              173 non-null    bool  \n",
      " 3   Gender               173 non-null    object\n",
      " 4   Probationary_Intro   15 non-null     object\n",
      " 5   Full_Avengers_Intro  159 non-null    object\n",
      " 6   Year                 173 non-null    int64 \n",
      " 7   Years_since_joining  173 non-null    int64 \n",
      " 8   Status               173 non-null    object\n",
      " 9   FEMALE               173 non-null    uint8 \n",
      " 10  MALE                 173 non-null    uint8 \n",
      " 11  Academy              173 non-null    uint8 \n",
      " 12  Full                 173 non-null    uint8 \n",
      " 13  Honorary             173 non-null    uint8 \n",
      " 14  Probationary         173 non-null    uint8 \n",
      " 15  total_deaths         173 non-null    int64 \n",
      " 16  total_returns        173 non-null    int64 \n",
      " 17  Alive                173 non-null    bool  \n",
      "dtypes: bool(2), int64(5), object(5), uint8(6)\n",
      "memory usage: 15.0+ KB\n"
     ]
    }
   ],
   "source": [
    "df.info()"
   ]
  },
  {
   "cell_type": "markdown",
   "metadata": {},
   "source": [
    "### Initial Questions\n",
    "---\n",
    "Now that the data has been separated into workable datatypes, we can begin to ask some questions regarding this data. For this project, I don't think a machine learning model will be too helpful, as the only thing we could predict is potentially their status (which would really only be based on gender and appearances -not too exiting-).\n",
    "\n",
    "#### Lets see if we can draw up some visualizations to define this group a bit more!\n",
    "\n",
    "- Who makes the most appearances?\n",
    "- Which gender makes the most appearances?\n",
    "- How many (by gender) are in each status?\n",
    "- What is the average # of deaths per avenger?"
   ]
  },
  {
   "cell_type": "markdown",
   "metadata": {},
   "source": [
    "### Who makes the most appearances?\n",
    "***"
   ]
  },
  {
   "cell_type": "code",
   "execution_count": 110,
   "metadata": {},
   "outputs": [
    {
     "data": {
      "image/png": "[encoded data removed]",
      "text/plain": [
       "<Figure size 720x720 with 1 Axes>"
      ]
     },
     "metadata": {
      "needs_background": "light"
     },
     "output_type": "display_data"
    }
   ],
   "source": [
    "#Plotting the Top 20 Avengers by Appearance in the Comics\n",
    "\n",
    "plt.figure(figsize=(10,10))\n",
    "ax = sns.barplot(data=df.head(20).sort_values(by=\"Appearances\", ascending=False), x=\"Name/Alias\", y='Appearances')\n",
    "plt.xticks(rotation=90)\n",
    "plt.title('Top 20 Avengers by Appearances in the Comics')\n",
    "plt.show()"
   ]
  },
  {
   "cell_type": "markdown",
   "metadata": {},
   "source": [
    "Looks like `Steven Rogers`, `Tony Stark`, and `Thor Odinson` take our podium spots. Those first 7 are all male though... Lets see how many overall appearances were made by each Gender..."
   ]
  },
  {
   "cell_type": "markdown",
   "metadata": {},
   "source": [
    "### Which Gender makes the most appearances?\n",
    "***"
   ]
  },
  {
   "cell_type": "code",
   "execution_count": 111,
   "metadata": {},
   "outputs": [],
   "source": [
    "# Making a sorted dataframe by gender so we can see overall numbers\n",
    "\n",
    "gender_df = df.groupby(['Gender']).Appearances.sum().reset_index()\n",
    "gender_df = gender_df.sort_values(by='Gender', ascending=False).reset_index(drop=True)"
   ]
  },
  {
   "cell_type": "code",
   "execution_count": 114,
   "metadata": {
    "scrolled": false
   },
   "outputs": [
    {
     "data": {
      "image/png": "[encoded data removed]",
      "text/plain": [
       "<Figure size 720x720 with 2 Axes>"
      ]
     },
     "metadata": {
      "needs_background": "light"
     },
     "output_type": "display_data"
    },
    {
     "name": "stdout",
     "output_type": "stream",
     "text": [
      "The average number of Male appearances is 490.\n",
      "The average number of Female appearances is 263\n"
     ]
    }
   ],
   "source": [
    "# Plotting average appearances and overall appearances by Gender\n",
    "\n",
    "plt.figure(figsize=(10,10))\n",
    "plt.subplot(1,2,1)\n",
    "ax = sns.barplot(data=df, x=\"Gender\", y=\"Appearances\")\n",
    "plt.subplot(1,2,2)\n",
    "ax2 = sns.barplot(data=gender_df, x=\"Gender\", y=\"Appearances\")\n",
    "plt.tight_layout()\n",
    "plt.show()\n",
    "\n",
    "print(\"The average number of Male appearances is {}.\".format(round(df[df[\"Gender\"] == \"MALE\"].Appearances.mean())))\n",
    "print(\"The average number of Female appearances is {}\".format(round(df[df[\"Gender\"] == \"FEMALE\"].Appearances.mean())))"
   ]
  },
  {
   "cell_type": "markdown",
   "metadata": {},
   "source": [
    "Interesting... On average, `Male` Avengers get nearly 227 more appearances than `Female` Avengers. This could be misleading though, considering we have data where Avengers made an appearance in 1963... this is before the Civil Rights Act of 1964. A LOT has changed since then, so perhaps we can see a change in # of Appearances as time goes on! I believe in MARVEL! "
   ]
  },
  {
   "cell_type": "code",
   "execution_count": 163,
   "metadata": {},
   "outputs": [
    {
     "data": {
      "image/png": "[encoded data removed]",
      "text/plain": [
       "<Figure size 720x720 with 1 Axes>"
      ]
     },
     "metadata": {},
     "output_type": "display_data"
    }
   ],
   "source": [
    "# Splitting the Data into two Datasets for cumulative sumation.\n",
    "\n",
    "male_df = df[df[\"Gender\"]==\"MALE\"].groupby([\"Year\"]).Appearances.mean().reset_index()\n",
    "female_df = df[df[\"Gender\"]==\"FEMALE\"].groupby([\"Year\"]).Appearances.mean().reset_index()\n",
    "\n",
    "# Plotting the two!\n",
    "\n",
    "plt.figure(figsize=(10,10))\n",
    "sns.set(style='darkgrid')\n",
    "ax1 = sns.lineplot(data = male_df, x=\"Year\", y=\"Appearances\", marker=\"o\")\n",
    "ax2 = sns.lineplot(data = female_df, x=\"Year\", y=\"Appearances\", color='pink', marker=\"o\")\n",
    "plt.axis([1970, 2020, 0, 2500])\n",
    "plt.title('Average Appearance by Year of Appearance per Avenger Gender (1970-Present)', fontsize=15)\n",
    "plt.legend(['Male', 'Female'])\n",
    "plt.tight_layout()\n",
    "plt.show()"
   ]
  },
  {
   "cell_type": "markdown",
   "metadata": {},
   "source": [
    "Truthfully this isn't a graph I would present because there isn't much insight to it. We are limited in this data to the **Average Number of Appearances based on when they were introduced**, where I would much rather have had the cumulative number of appearances per `Gender` as the years went on. Aside from two spikes we see in 1990 and 1986, these graphs are fairly similar. One conclusion we can draw from this is that those two spikes are likely caused by some of our top appearing male avengers. Let's check!"
   ]
  },
  {
   "cell_type": "code",
   "execution_count": 165,
   "metadata": {
    "scrolled": true
   },
   "outputs": [
    {
     "data": {
      "text/html": [
       "<div>\n",
       "<style scoped>\n",
       "    .dataframe tbody tr th:only-of-type {\n",
       "        vertical-align: middle;\n",
       "    }\n",
       "\n",
       "    .dataframe tbody tr th {\n",
       "        vertical-align: top;\n",
       "    }\n",
       "\n",
       "    .dataframe thead th {\n",
       "        text-align: right;\n",
       "    }\n",
       "</style>\n",
       "<table border=\"1\" class=\"dataframe\">\n",
       "  <thead>\n",
       "    <tr style=\"text-align: right;\">\n",
       "      <th></th>\n",
       "      <th>Name/Alias</th>\n",
       "      <th>Appearances</th>\n",
       "      <th>Current</th>\n",
       "      <th>Gender</th>\n",
       "      <th>Probationary_Intro</th>\n",
       "      <th>Full_Avengers_Intro</th>\n",
       "      <th>Year</th>\n",
       "      <th>Years_since_joining</th>\n",
       "      <th>Status</th>\n",
       "      <th>FEMALE</th>\n",
       "      <th>MALE</th>\n",
       "      <th>Academy</th>\n",
       "      <th>Full</th>\n",
       "      <th>Honorary</th>\n",
       "      <th>Probationary</th>\n",
       "      <th>total_deaths</th>\n",
       "      <th>total_returns</th>\n",
       "      <th>Alive</th>\n",
       "    </tr>\n",
       "  </thead>\n",
       "  <tbody>\n",
       "    <tr>\n",
       "      <th>73</th>\n",
       "      <td>Peter Benjamin Parker</td>\n",
       "      <td>4333</td>\n",
       "      <td>True</td>\n",
       "      <td>MALE</td>\n",
       "      <td>NaN</td>\n",
       "      <td>Apr-90</td>\n",
       "      <td>1990</td>\n",
       "      <td>31</td>\n",
       "      <td>Full</td>\n",
       "      <td>0</td>\n",
       "      <td>1</td>\n",
       "      <td>0</td>\n",
       "      <td>1</td>\n",
       "      <td>0</td>\n",
       "      <td>0</td>\n",
       "      <td>2</td>\n",
       "      <td>2</td>\n",
       "      <td>True</td>\n",
       "    </tr>\n",
       "    <tr>\n",
       "      <th>40</th>\n",
       "      <td>Benjamin Jacob Grimm</td>\n",
       "      <td>2305</td>\n",
       "      <td>False</td>\n",
       "      <td>MALE</td>\n",
       "      <td>NaN</td>\n",
       "      <td>Jun-86</td>\n",
       "      <td>1986</td>\n",
       "      <td>35</td>\n",
       "      <td>Full</td>\n",
       "      <td>0</td>\n",
       "      <td>1</td>\n",
       "      <td>0</td>\n",
       "      <td>1</td>\n",
       "      <td>0</td>\n",
       "      <td>0</td>\n",
       "      <td>1</td>\n",
       "      <td>1</td>\n",
       "      <td>True</td>\n",
       "    </tr>\n",
       "    <tr>\n",
       "      <th>57</th>\n",
       "      <td>Reed Richards</td>\n",
       "      <td>2125</td>\n",
       "      <td>True</td>\n",
       "      <td>MALE</td>\n",
       "      <td>NaN</td>\n",
       "      <td>Feb-89</td>\n",
       "      <td>1989</td>\n",
       "      <td>32</td>\n",
       "      <td>Full</td>\n",
       "      <td>0</td>\n",
       "      <td>1</td>\n",
       "      <td>0</td>\n",
       "      <td>1</td>\n",
       "      <td>0</td>\n",
       "      <td>0</td>\n",
       "      <td>0</td>\n",
       "      <td>0</td>\n",
       "      <td>True</td>\n",
       "    </tr>\n",
       "    <tr>\n",
       "      <th>58</th>\n",
       "      <td>Susan Richards (nee Storm)</td>\n",
       "      <td>1761</td>\n",
       "      <td>False</td>\n",
       "      <td>MALE</td>\n",
       "      <td>NaN</td>\n",
       "      <td>Feb-89</td>\n",
       "      <td>1989</td>\n",
       "      <td>32</td>\n",
       "      <td>Full</td>\n",
       "      <td>0</td>\n",
       "      <td>1</td>\n",
       "      <td>0</td>\n",
       "      <td>1</td>\n",
       "      <td>0</td>\n",
       "      <td>0</td>\n",
       "      <td>0</td>\n",
       "      <td>0</td>\n",
       "      <td>True</td>\n",
       "    </tr>\n",
       "    <tr>\n",
       "      <th>49</th>\n",
       "      <td>Namor McKenzie</td>\n",
       "      <td>1561</td>\n",
       "      <td>False</td>\n",
       "      <td>MALE</td>\n",
       "      <td>NaN</td>\n",
       "      <td>Dec-85</td>\n",
       "      <td>1985</td>\n",
       "      <td>36</td>\n",
       "      <td>Full</td>\n",
       "      <td>0</td>\n",
       "      <td>1</td>\n",
       "      <td>0</td>\n",
       "      <td>1</td>\n",
       "      <td>0</td>\n",
       "      <td>0</td>\n",
       "      <td>1</td>\n",
       "      <td>1</td>\n",
       "      <td>True</td>\n",
       "    </tr>\n",
       "  </tbody>\n",
       "</table>\n",
       "</div>"
      ],
      "text/plain": [
       "                    Name/Alias  Appearances  Current Gender  \\\n",
       "73       Peter Benjamin Parker         4333     True   MALE   \n",
       "40        Benjamin Jacob Grimm         2305    False   MALE   \n",
       "57               Reed Richards         2125     True   MALE   \n",
       "58  Susan Richards (nee Storm)         1761    False   MALE   \n",
       "49              Namor McKenzie         1561    False   MALE   \n",
       "\n",
       "   Probationary_Intro Full_Avengers_Intro  Year  Years_since_joining Status  \\\n",
       "73                NaN              Apr-90  1990                   31   Full   \n",
       "40                NaN              Jun-86  1986                   35   Full   \n",
       "57                NaN              Feb-89  1989                   32   Full   \n",
       "58                NaN              Feb-89  1989                   32   Full   \n",
       "49                NaN              Dec-85  1985                   36   Full   \n",
       "\n",
       "    FEMALE  MALE  Academy  Full  Honorary  Probationary  total_deaths  \\\n",
       "73       0     1        0     1         0             0             2   \n",
       "40       0     1        0     1         0             0             1   \n",
       "57       0     1        0     1         0             0             0   \n",
       "58       0     1        0     1         0             0             0   \n",
       "49       0     1        0     1         0             0             1   \n",
       "\n",
       "    total_returns  Alive  \n",
       "73              2   True  \n",
       "40              1   True  \n",
       "57              0   True  \n",
       "58              0   True  \n",
       "49              1   True  "
      ]
     },
     "execution_count": 165,
     "metadata": {},
     "output_type": "execute_result"
    }
   ],
   "source": [
    "df[(df[\"Year\"] >= 1985) & (df[\"Year\"] <= 1990)].sort_values(\"Appearances\", ascending=False).head()"
   ]
  },
  {
   "cell_type": "markdown",
   "metadata": {},
   "source": [
    "**Conclusion**: Looks like `Peter Parker` aka \"Spiderman\" (1990) may be our outlier dragging those averages up in 1990! I wouldn't say that 1986 has an outlier though... `Ben Grimm` has an average of 2305, right around the average presented in the graph. "
   ]
  }
 ],
 "metadata": {
  "kernelspec": {
   "display_name": "Python 3",
   "language": "python",
   "name": "python3"
  },
  "language_info": {
   "codemirror_mode": {
    "name": "ipython",
    "version": 3
   },
   "file_extension": ".py",
   "mimetype": "text/x-python",
   "name": "python",
   "nbconvert_exporter": "python",
   "pygments_lexer": "ipython3",
   "version": "3.8.5"
  }
 },
 "nbformat": 4,
 "nbformat_minor": 4
}
